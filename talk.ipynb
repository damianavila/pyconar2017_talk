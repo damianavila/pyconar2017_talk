{
 "cells": [
  {
   "cell_type": "markdown",
   "metadata": {
    "slideshow": {
     "slide_type": "slide"
    }
   },
   "source": [
    "# JupyterLab\n",
    "\n",
    "## La nueva generación"
   ]
  },
  {
   "cell_type": "markdown",
   "metadata": {
    "slideshow": {
     "slide_type": "slide"
    }
   },
   "source": [
    "## Damián Avila"
   ]
  },
  {
   "cell_type": "markdown",
   "metadata": {
    "slideshow": {
     "slide_type": "fragment"
    }
   },
   "source": [
    "* **Desarrollador** de Software y **Lider** de equipo\n",
    "* Laburando actualmente en **Anaconda, Inc.**\n",
    "* Desarrollador *core* de **Jupyter**\n",
    "* Miembro del **Jupyter Steering Council**\n",
    "* Parte de la comunidad **PyConAr**\n",
    "* Quant, Bioestadístico, y (en otra vida ;-) Bioquímico, entre otras cosas"
   ]
  },
  {
   "cell_type": "markdown",
   "metadata": {
    "slideshow": {
     "slide_type": "slide"
    }
   },
   "source": [
    "## The Jupyter team"
   ]
  },
  {
   "cell_type": "markdown",
   "metadata": {},
   "source": [
    "![Jupyter_team](team.png)"
   ]
  },
  {
   "cell_type": "markdown",
   "metadata": {
    "slideshow": {
     "slide_type": "subslide"
    }
   },
   "source": [
    "## El ecosistema de Jupyter"
   ]
  },
  {
   "cell_type": "markdown",
   "metadata": {},
   "source": [
    "![Jupyter](map.png)"
   ]
  },
  {
   "cell_type": "markdown",
   "metadata": {
    "slideshow": {
     "slide_type": "slide"
    }
   },
   "source": [
    "## Jupyter Notebook"
   ]
  },
  {
   "cell_type": "markdown",
   "metadata": {},
   "source": [
    "* Ambiente computacional **interactivo** en el navegador\n",
    "* Análisis de datos **exploratorio**, ML, visualización \n",
    "* Documento **Reproducible**:\n",
    "    * Código\n",
    "    * Texto (markdown)\n",
    "    * Ecuaciones (LaTeX)\n",
    "    * Imágenes, visualizaciones\n",
    "* Más de 50 languages de programación\n",
    "* Código abierto (licencia BSD)"
   ]
  },
  {
   "cell_type": "markdown",
   "metadata": {
    "slideshow": {
     "slide_type": "subslide"
    }
   },
   "source": [
    "## Jupyter Notebook (Arquitectura)"
   ]
  },
  {
   "cell_type": "markdown",
   "metadata": {},
   "source": [
    "* Notebook app, la aplicación web interactiva que provee la UI para escribir y correr código interactivamente generando documentos autocontenidos (notebooks)\n",
    "* Kernels, procesos independientes levantados por la app Notebook que corre el código provisto por el usuario y retorna (y muestra) los resultados (en forma de output a traves de la Notebook app)\n",
    "* Documentos, artefactos autocontenidos que contienen una representación de todo el contenido visible en la Notebook app"
   ]
  },
  {
   "cell_type": "markdown",
   "metadata": {
    "slideshow": {
     "slide_type": "subslide"
    }
   },
   "source": [
    "## Jupyter Notebook (Componentes)"
   ]
  },
  {
   "cell_type": "markdown",
   "metadata": {},
   "source": [
    "* Manejador de archivos (básico)\n",
    "* Notebooks\n",
    "* Terminales\n",
    "* Editor de texto"
   ]
  },
  {
   "cell_type": "markdown",
   "metadata": {
    "slideshow": {
     "slide_type": "slide"
    }
   },
   "source": [
    "## Jupyter Lab"
   ]
  },
  {
   "cell_type": "markdown",
   "metadata": {},
   "source": [
    "* El futuro!!!\n",
    "* Instalación\n",
    "\n",
    "```\n",
    "1. conda install -c conda-forge jupyterlab\n",
    "```\n",
    "```\n",
    "2. pip install jupyterlab\n",
    "   jupyter serverextension enable --py jupyterlab --sys-prefix\n",
    "```\n",
    "\n",
    "* Repo: https://github.com/jupyterlab/jupyterlab\n",
    "* Docs: http://jupyterlab-tutorial.readthedocs.io/en/latest/"
   ]
  },
  {
   "cell_type": "markdown",
   "metadata": {
    "slideshow": {
     "slide_type": "subslide"
    }
   },
   "source": [
    "## Un nuevo cliente"
   ]
  },
  {
   "cell_type": "markdown",
   "metadata": {},
   "source": [
    "![nb & components](notebook_components.png)"
   ]
  },
  {
   "cell_type": "markdown",
   "metadata": {
    "slideshow": {
     "slide_type": "subslide"
    }
   },
   "source": [
    "## Jupyter Lab (Característcas)"
   ]
  },
  {
   "cell_type": "markdown",
   "metadata": {},
   "source": [
    "* Desarrollo *moderno* en Javascript\n",
    "    * paquetes npm\n",
    "    * Typescript\n",
    "    * phosphorJS\n",
    "* Clara diferenciación entre modelos y vistas\n",
    "* API públicas y privadas definidas/separadas\n",
    "* Totalmente extensible (plugins/extensions)\n",
    "* Performante\n",
    "* Diseño"
   ]
  },
  {
   "cell_type": "markdown",
   "metadata": {
    "slideshow": {
     "slide_type": "subslide"
    }
   },
   "source": [
    "## Jupyter Lab (*Status quo*)"
   ]
  },
  {
   "cell_type": "markdown",
   "metadata": {},
   "source": [
    "* 2 años de desarrollo\n",
    "* 83 colaboradores\n",
    "* 1277 releases\n",
    "* 10793 commits\n",
    "* Versión actual 0.29.2\n",
    "* **Beta** (**1.0**) a principios del año que viene\n",
    "* El notebook clásico (**legacy**) será eventualmente retirado"
   ]
  },
  {
   "cell_type": "markdown",
   "metadata": {
    "slideshow": {
     "slide_type": "subslide"
    }
   },
   "source": [
    "## Demo"
   ]
  },
  {
   "cell_type": "markdown",
   "metadata": {
    "slideshow": {
     "slide_type": "subslide"
    }
   },
   "source": [
    "* Arrancando...\n",
    "* Launcher\n",
    "* Notebook\n",
    "* Consola\n",
    "* Editor de texto\n",
    "* Terminales\n",
    "* Arreglo (layout)\n",
    "* Drag & drop\n",
    "* Vistas (New view into file)\n",
    "* Panel lateral (Archivos & Paleta de comandos)\n",
    "* Menu"
   ]
  },
  {
   "cell_type": "markdown",
   "metadata": {
    "slideshow": {
     "slide_type": "subslide"
    }
   },
   "source": [
    "* Settings\n",
    "* Markdown (model/vista & acoplamiento de consola)\n",
    "* Modo de documento único (Cmd + Shift + Enter)\n",
    "* Imágenes\n",
    "* GeoJSON\n",
    "* Vega\n",
    "* CSV\n",
    "* Widgets\n",
    "* Colaboración en tiempo real\n",
    "* Git/Github\n",
    "* Jupyterlab app (electron)"
   ]
  },
  {
   "cell_type": "markdown",
   "metadata": {
    "slideshow": {
     "slide_type": "slide"
    }
   },
   "source": [
    "## ¿Quiénes hacen Jupyter Lab?"
   ]
  },
  {
   "cell_type": "markdown",
   "metadata": {
    "slideshow": {
     "slide_type": "fragment"
    }
   },
   "source": [
    "* Steven Silvester, Anaconda, Inc.\n",
    "* Afshin Darian, Anaconda, Inc.\n",
    "* Chris Colbert, Anaconda, Inc.\n",
    "* Jason Grout, Bloomberg\n",
    "* Ian Rose, UC Berkeley\n",
    "* Grant Nestor, Cal Poly\n",
    "* Cameron Oelsen, Cal Poly\n",
    "* Brian Granger, Cal Poly\n",
    "* Fernando Perez, UC Berkeley \n",
    "* Cal Poly Interns\n",
    "* The Larger Jupyter Team"
   ]
  },
  {
   "cell_type": "markdown",
   "metadata": {
    "slideshow": {
     "slide_type": "slide"
    }
   },
   "source": [
    "![JupyterCon_anterior](jupytercon_1.png)"
   ]
  },
  {
   "cell_type": "markdown",
   "metadata": {
    "slideshow": {
     "slide_type": "subslide"
    }
   },
   "source": [
    "![JupyterCon_siguiente](jupytercon_2.png)"
   ]
  },
  {
   "cell_type": "markdown",
   "metadata": {
    "slideshow": {
     "slide_type": "slide"
    }
   },
   "source": [
    "## Contacto"
   ]
  },
  {
   "cell_type": "markdown",
   "metadata": {},
   "source": [
    "* Blog: http://www.damian.oquanta.info/\n",
    "\n",
    "* Twitter: [@damian_avila](https://twitter.com/damian_avila)\n",
    "\n",
    "* GitHub: https://github.com/damianavila"
   ]
  },
  {
   "cell_type": "markdown",
   "metadata": {},
   "source": [
    "## ¿Preguntas?"
   ]
  }
 ],
 "metadata": {
  "celltoolbar": "Slideshow",
  "kernelspec": {
   "display_name": "Python 3",
   "language": "python",
   "name": "python3"
  },
  "language_info": {
   "codemirror_mode": {
    "name": "ipython",
    "version": 3
   },
   "file_extension": ".py",
   "mimetype": "text/x-python",
   "name": "python",
   "nbconvert_exporter": "python",
   "pygments_lexer": "ipython3",
   "version": "3.6.3"
  },
  "livereveal": {
   "autolaunch": false,
   "scroll": true
  }
 },
 "nbformat": 4,
 "nbformat_minor": 2
}
